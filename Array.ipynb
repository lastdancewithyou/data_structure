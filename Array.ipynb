{
 "cells": [
  {
   "cell_type": "markdown",
   "id": "3fd64a17-5648-415c-af34-37e46a287937",
   "metadata": {},
   "source": [
    "# 배열(Array)"
   ]
  },
  {
   "cell_type": "markdown",
   "id": "32a0f0a1",
   "metadata": {},
   "source": [
    "## 배열 원소의 최댓값 구하기"
   ]
  },
  {
   "cell_type": "code",
   "execution_count": 2,
   "id": "5343447b-dee9-4de2-a818-a7de4c39cdfb",
   "metadata": {},
   "outputs": [],
   "source": [
    "a=[1,5,2]\n",
    "maximum = a[0]\n",
    "\n",
    "if a[1] > maximum :\n",
    "    maximum = a[1]\n",
    "if a[2] > maximum : \n",
    "    maximum = a[2]"
   ]
  },
  {
   "cell_type": "code",
   "execution_count": 14,
   "id": "0ebf2ed6",
   "metadata": {},
   "outputs": [],
   "source": [
    "a = [12, 20, 3, 1]"
   ]
  },
  {
   "cell_type": "code",
   "execution_count": 15,
   "id": "22acd42c-04bb-44c8-9a5e-018a3589f038",
   "metadata": {},
   "outputs": [],
   "source": [
    "def max_of(a) : \n",
    "    maximum = a[0]\n",
    "    for i in range(1, len(a)) : \n",
    "        if a[i] > maximum : \n",
    "            maximum = a[i]\n",
    "    print(maximum)"
   ]
  },
  {
   "cell_type": "code",
   "execution_count": 17,
   "id": "13c43521-84b7-46d0-91da-5a366941dfde",
   "metadata": {},
   "outputs": [
    {
     "name": "stdout",
     "output_type": "stream",
     "text": [
      "20\n"
     ]
    }
   ],
   "source": [
    "max_of(a)"
   ]
  },
  {
   "cell_type": "markdown",
   "id": "ae95dc91",
   "metadata": {},
   "source": [
    "## 모듈 만들기"
   ]
  },
  {
   "cell_type": "code",
   "execution_count": 32,
   "id": "5324f67c",
   "metadata": {},
   "outputs": [
    {
     "name": "stdout",
     "output_type": "stream",
     "text": [
      "배열의 최댓값을 구합니다.\n",
      "원소 수를 입력하세요. : 3\n",
      "x[0]값을 입력하세요.: 1\n",
      "x[1]값을 입력하세요.: 2\n",
      "x[2]값을 입력하세요.: 6\n",
      "최댓값은 6입니다.\n"
     ]
    }
   ],
   "source": [
    "from typing import Any, Sequence\n",
    "\n",
    "def max_of(a: Sequence) -> Any : \n",
    "    maximum = a[0]\n",
    "    \n",
    "    for i in range(1, len(a)) : \n",
    "        if a[i] > maximum : \n",
    "            maximum = a[i]\n",
    "    return maximum\n",
    "\n",
    "if __name__ == '__main__' : \n",
    "    print('배열의 최댓값을 구합니다.')\n",
    "    num = int(input('원소 수를 입력하세요. : '))\n",
    "    x = [None] * num\n",
    "    \n",
    "    for i in range(num) : \n",
    "        x[i] = int(input(f'x[{i}]값을 입력하세요.: '))\n",
    "        \n",
    "    print(f'최댓값은 {max_of(x)}입니다.')"
   ]
  },
  {
   "cell_type": "code",
   "execution_count": 29,
   "id": "8f8dc24d",
   "metadata": {},
   "outputs": [
    {
     "name": "stdout",
     "output_type": "stream",
     "text": [
      "배열의 최댓값을 구합니다.\n",
      "주의: \"종료\"를 입력하면 종료합니다.\n",
      "x[0]를 입력하세요.: 3\n",
      "x[1]를 입력하세요.: 2\n",
      "x[2]를 입력하세요.: 종료\n",
      "2개를 입력했습니다.\n",
      "최댓값은 3입니다.\n"
     ]
    }
   ],
   "source": [
    "from max import max_of\n",
    "\n",
    "print('배열의 최댓값을 구합니다.')\n",
    "print('주의: \"종료\"를 입력하면 종료합니다.')\n",
    "\n",
    "number = 0\n",
    "x = []    \n",
    "\n",
    "while True:\n",
    "    s = input(f'x[{number}]를 입력하세요.: ')\n",
    "    if s == '종료':\n",
    "        break\n",
    "    x.append(int(s))\n",
    "    number += 1\n",
    "\n",
    "print(f'{number}개를 입력했습니다.')\n",
    "print(f'최댓값은 {max_of(x)}입니다.')"
   ]
  },
  {
   "cell_type": "code",
   "execution_count": 34,
   "id": "616a9cb1-5af1-48ba-89f7-9c691d1003fb",
   "metadata": {},
   "outputs": [
    {
     "name": "stdout",
     "output_type": "stream",
     "text": [
      "(1, 2.4, 3, 4.1, 5)의 최댓값은 5입니다.\n",
      "apple의 최댓값은 p입니다.\n",
      "['subin', 'quokka']의 최댓값은 subin입니다.\n"
     ]
    }
   ],
   "source": [
    "from max import max_of\n",
    "\n",
    "t = (1,2.4,3,4.1,5)\n",
    "s = 'apple'\n",
    "a = ['subin', 'quokka']\n",
    "\n",
    "print(f'{t}의 최댓값은 {max_of(t)}입니다.')\n",
    "print(f'{s}의 최댓값은 {max_of(s)}입니다.')\n",
    "print(f'{a}의 최댓값은 {max_of(a)}입니다.')"
   ]
  },
  {
   "cell_type": "markdown",
   "id": "460481f5",
   "metadata": {},
   "source": [
    "## 별도 생성된 리스트와 튜플의 동일성 판단하기"
   ]
  },
  {
   "cell_type": "code",
   "execution_count": 35,
   "id": "8a6f66cd-a47b-4b45-beda-d17ce4833ff4",
   "metadata": {},
   "outputs": [
    {
     "data": {
      "text/plain": [
       "False"
      ]
     },
     "execution_count": 35,
     "metadata": {},
     "output_type": "execute_result"
    }
   ],
   "source": [
    "lst1 = [1,2,3,4,5]\n",
    "lst2 = [1,2,3,4,5]\n",
    "lst1 is lst2"
   ]
  },
  {
   "cell_type": "markdown",
   "id": "d320b4f3",
   "metadata": {},
   "source": [
    "## 리스트 스캔"
   ]
  },
  {
   "cell_type": "code",
   "execution_count": 37,
   "id": "e73f305f",
   "metadata": {},
   "outputs": [
    {
     "name": "stdout",
     "output_type": "stream",
     "text": [
      "x[0] = Jeong\n",
      "x[1] = Heungmin\n",
      "x[2] = Peter\n",
      "x[3] = Jackson\n"
     ]
    }
   ],
   "source": [
    "x = ['Jeong','Heungmin','Peter','Jackson']\n",
    "\n",
    "for i in range(len(x)) : \n",
    "    print(f'x[{i}] = {x[i]}')"
   ]
  },
  {
   "cell_type": "code",
   "execution_count": 39,
   "id": "39f2ed09",
   "metadata": {},
   "outputs": [
    {
     "name": "stdout",
     "output_type": "stream",
     "text": [
      "x[0] = Jeong\n",
      "x[1] = Heungmin\n",
      "x[2] = Peter\n",
      "x[3] = Jackson\n"
     ]
    }
   ],
   "source": [
    "x = ['Jeong','Heungmin','Peter','Jackson']\n",
    "\n",
    "for i, name in enumerate(x) : \n",
    "    print(f'x[{i}] = {name}')"
   ]
  },
  {
   "cell_type": "code",
   "execution_count": 40,
   "id": "a9d9bffd",
   "metadata": {},
   "outputs": [
    {
     "name": "stdout",
     "output_type": "stream",
     "text": [
      "x[1] = Jeong\n",
      "x[2] = Heungmin\n",
      "x[3] = Peter\n",
      "x[4] = Jackson\n"
     ]
    }
   ],
   "source": [
    "x = ['Jeong','Heungmin','Peter','Jackson']\n",
    "\n",
    "for i, name in enumerate(x, 1) : \n",
    "    print(f'x[{i}] = {name}')"
   ]
  },
  {
   "cell_type": "code",
   "execution_count": 41,
   "id": "de37daa6",
   "metadata": {},
   "outputs": [
    {
     "name": "stdout",
     "output_type": "stream",
     "text": [
      "Jeong\n",
      "Heungmin\n",
      "Peter\n",
      "Jackson\n"
     ]
    }
   ],
   "source": [
    "x = ['Jeong','Heungmin','Peter','Jackson']\n",
    "\n",
    "for i in x : \n",
    "    print(i)"
   ]
  }
 ],
 "metadata": {
  "kernelspec": {
   "display_name": "Python 3 (ipykernel)",
   "language": "python",
   "name": "python3"
  },
  "language_info": {
   "codemirror_mode": {
    "name": "ipython",
    "version": 3
   },
   "file_extension": ".py",
   "mimetype": "text/x-python",
   "name": "python",
   "nbconvert_exporter": "python",
   "pygments_lexer": "ipython3",
   "version": "3.8.17"
  }
 },
 "nbformat": 4,
 "nbformat_minor": 5
}
