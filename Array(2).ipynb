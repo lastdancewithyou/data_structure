{
 "cells": [
  {
   "cell_type": "code",
   "execution_count": 3,
   "id": "787f0489-a605-4030-aa63-0e77bde02c75",
   "metadata": {},
   "outputs": [],
   "source": [
    "from typing import Any, MutableSequence"
   ]
  },
  {
   "cell_type": "code",
   "execution_count": 9,
   "id": "3a6761aa-3303-4acd-a06a-ab6e15b7fba4",
   "metadata": {},
   "outputs": [],
   "source": [
    "def reverse_array(a: MutableSequence) -> None : \n",
    "    n = len(a)\n",
    "    for i in range(n//2) : \n",
    "        a[i], a[n-1-i] = a[n-i-1], a[i]"
   ]
  },
  {
   "cell_type": "code",
   "execution_count": 12,
   "id": "5c387754-541f-453b-a96e-ffd61c520929",
   "metadata": {},
   "outputs": [
    {
     "name": "stdout",
     "output_type": "stream",
     "text": [
      "[6, 5, 10, 7, 3]\n"
     ]
    }
   ],
   "source": [
    "a = [3, 7, 10, 5, 6]\n",
    "reverse_array(a)\n",
    "\n",
    "print(a)"
   ]
  },
  {
   "cell_type": "code",
   "execution_count": 15,
   "id": "b7b7fb4c-9d88-40dd-bdc0-cebdf0c6d5bf",
   "metadata": {},
   "outputs": [
    {
     "name": "stdout",
     "output_type": "stream",
     "text": [
      "배열 원소를 역순으로 정렬합니다.\n"
     ]
    },
    {
     "name": "stdin",
     "output_type": "stream",
     "text": [
      "원소 수를 입력하세요.:  4\n",
      "x[0]값을 입력하세요.: 1\n",
      "x[1]값을 입력하세요.: 2\n",
      "x[2]값을 입력하세요.: 3\n",
      "x[3]값을 입력하세요.: 4\n"
     ]
    },
    {
     "name": "stdout",
     "output_type": "stream",
     "text": [
      "배열 원소를 역순으로 정렬했습니다.\n",
      "x[0] = 4\n",
      "x[1] = 3\n",
      "x[2] = 2\n",
      "x[3] = 1\n"
     ]
    }
   ],
   "source": [
    "if __name__ == '__main__' : \n",
    "    print('배열 원소를 역순으로 정렬합니다.')\n",
    "    nx = int(input(\"원소 수를 입력하세요.: \"))\n",
    "    x = [None] * nx\n",
    "\n",
    "    for i in range(nx) : \n",
    "        x[i] = int(input(f'x[{i}]값을 입력하세요.:'))\n",
    "\n",
    "    reverse_array(x)\n",
    "\n",
    "    print('배열 원소를 역순으로 정렬했습니다.')\n",
    "    for i in range(nx) : \n",
    "        print(f'x[{i}] = {x[i]}')"
   ]
  },
  {
   "cell_type": "code",
   "execution_count": 18,
   "id": "dea7dec4-6ecc-494b-bce8-308902cac8a8",
   "metadata": {},
   "outputs": [
    {
     "data": {
      "text/plain": [
       "[7, 3, 2, 1]"
      ]
     },
     "execution_count": 18,
     "metadata": {},
     "output_type": "execute_result"
    }
   ],
   "source": [
    "# reverse()\n",
    "x = [1,2,3,7]\n",
    "x.reverse()\n",
    "x"
   ]
  },
  {
   "cell_type": "code",
   "execution_count": 20,
   "id": "39044a36-4927-4cb5-8721-c4f569330c73",
   "metadata": {},
   "outputs": [
    {
     "data": {
      "text/plain": [
       "[7, 3, 2, 1]"
      ]
     },
     "execution_count": 20,
     "metadata": {},
     "output_type": "execute_result"
    }
   ],
   "source": [
    "# reversed()\n",
    "x = [1,2,3,7]\n",
    "y = list(reversed(x))\n",
    "y"
   ]
  },
  {
   "cell_type": "code",
   "execution_count": 24,
   "id": "bba0910e-67f1-44bf-880c-7164c26ade0f",
   "metadata": {},
   "outputs": [
    {
     "name": "stdin",
     "output_type": "stream",
     "text": [
      "x의 값을 입력하세요.: 3\n"
     ]
    },
    {
     "name": "stdout",
     "output_type": "stream",
     "text": [
      "1부터 3까지 정수의 합은 6입니다.\n"
     ]
    }
   ],
   "source": [
    "# 함수 사이에 인수 주고 받기\n",
    "def sum(n) : \n",
    "    s = 0\n",
    "    while n > 0 : \n",
    "        s += n\n",
    "        n -= 1\n",
    "    return s\n",
    "\n",
    "x = int(input('x의 값을 입력하세요.:'))\n",
    "print(f'1부터 {x}까지 정수의 합은 {sum(x)}입니다.')"
   ]
  },
  {
   "cell_type": "code",
   "execution_count": 26,
   "id": "729b8eba-2be5-443d-81a6-4482e97676c6",
   "metadata": {},
   "outputs": [
    {
     "name": "stdout",
     "output_type": "stream",
     "text": [
      "100\n",
      "10\n"
     ]
    }
   ],
   "source": [
    "def reference(b) : \n",
    "    b *=10\n",
    "    print(b)\n",
    "\n",
    "a = 10\n",
    "reference(a)\n",
    "print(a)"
   ]
  },
  {
   "cell_type": "code",
   "execution_count": 29,
   "id": "8ba61f6b-7d55-49e4-bdbd-2c2d83846204",
   "metadata": {},
   "outputs": [
    {
     "name": "stdout",
     "output_type": "stream",
     "text": [
      "x = [11, 22, 33, 44, 55]\n"
     ]
    },
    {
     "name": "stdin",
     "output_type": "stream",
     "text": [
      "업데이트할 인덱스를 선택하세요.: 4\n",
      "새로운 값을 입력하세요.: 100\n"
     ]
    },
    {
     "name": "stdout",
     "output_type": "stream",
     "text": [
      "새로운 리스트 x: [11, 22, 33, 44, 100]\n"
     ]
    }
   ],
   "source": [
    "# 소수 나열하기\n",
    "def change(lst, idx, val) : \n",
    "    lst[idx] = val\n",
    "\n",
    "x = [11, 22, 33, 44, 55]\n",
    "print('x =', x)\n",
    "\n",
    "index = int(input(\"업데이트할 인덱스를 선택하세요.:\"))\n",
    "value = int(input(\"새로운 값을 입력하세요.:\"))\n",
    "\n",
    "change(x, index, value)\n",
    "print(f'새로운 리스트 x: {x}')"
   ]
  },
  {
   "cell_type": "code",
   "execution_count": 37,
   "id": "376c7544-7492-46a9-bbef-68c3210a742e",
   "metadata": {},
   "outputs": [
    {
     "name": "stdout",
     "output_type": "stream",
     "text": [
      "2\n",
      "3\n",
      "5\n",
      "7\n",
      "11\n",
      "13\n",
      "17\n",
      "19\n",
      "23\n",
      "29\n",
      "31\n",
      "37\n",
      "41\n",
      "43\n",
      "47\n",
      "53\n",
      "59\n",
      "61\n",
      "67\n",
      "71\n",
      "73\n",
      "79\n",
      "83\n",
      "89\n",
      "97\n",
      "101\n",
      "103\n",
      "107\n",
      "109\n",
      "113\n",
      "127\n",
      "131\n",
      "137\n",
      "139\n",
      "149\n",
      "151\n",
      "157\n",
      "163\n",
      "167\n",
      "173\n",
      "179\n",
      "181\n",
      "191\n",
      "193\n",
      "197\n",
      "199\n",
      "211\n",
      "223\n",
      "227\n",
      "229\n",
      "233\n",
      "239\n",
      "241\n",
      "251\n",
      "257\n",
      "263\n",
      "269\n",
      "271\n",
      "277\n",
      "281\n",
      "283\n",
      "293\n",
      "307\n",
      "311\n",
      "313\n",
      "317\n",
      "331\n",
      "337\n",
      "347\n",
      "349\n",
      "353\n",
      "359\n",
      "367\n",
      "373\n",
      "379\n",
      "383\n",
      "389\n",
      "397\n",
      "401\n",
      "409\n",
      "419\n",
      "421\n",
      "431\n",
      "433\n",
      "439\n",
      "443\n",
      "449\n",
      "457\n",
      "461\n",
      "463\n",
      "467\n",
      "479\n",
      "487\n",
      "491\n",
      "499\n",
      "503\n",
      "509\n",
      "521\n",
      "523\n",
      "541\n",
      "547\n",
      "557\n",
      "563\n",
      "569\n",
      "571\n",
      "577\n",
      "587\n",
      "593\n",
      "599\n",
      "601\n",
      "607\n",
      "613\n",
      "617\n",
      "619\n",
      "631\n",
      "641\n",
      "643\n",
      "647\n",
      "653\n",
      "659\n",
      "661\n",
      "673\n",
      "677\n",
      "683\n",
      "691\n",
      "701\n",
      "709\n",
      "719\n",
      "727\n",
      "733\n",
      "739\n",
      "743\n",
      "751\n",
      "757\n",
      "761\n",
      "769\n",
      "773\n",
      "787\n",
      "797\n",
      "809\n",
      "811\n",
      "821\n",
      "823\n",
      "827\n",
      "829\n",
      "839\n",
      "853\n",
      "857\n",
      "859\n",
      "863\n",
      "877\n",
      "881\n",
      "883\n",
      "887\n",
      "907\n",
      "911\n",
      "919\n",
      "929\n",
      "937\n",
      "941\n",
      "947\n",
      "953\n",
      "967\n",
      "971\n",
      "977\n",
      "983\n",
      "991\n",
      "997\n",
      "나눗셈을 실행한 횟수: 78022\n"
     ]
    }
   ],
   "source": [
    "# 소수 나열하기(알고리즘 개선판)\n",
    "counter = 0\n",
    "\n",
    "for n in range(2, 1001) : \n",
    "    for i in range(2, n) : \n",
    "        counter += 1\n",
    "        if n % i == 0 :\n",
    "            break\n",
    "    else :\n",
    "        print(n)\n",
    "print(f'나눗셈을 실행한 횟수: {counter}')"
   ]
  },
  {
   "cell_type": "code",
   "execution_count": 39,
   "id": "432d5d5d-adf3-4562-a8da-aeda1d3fe9bf",
   "metadata": {},
   "outputs": [
    {
     "name": "stdout",
     "output_type": "stream",
     "text": [
      "2\n",
      "3\n",
      "5\n",
      "7\n",
      "9\n",
      "11\n",
      "13\n",
      "17\n",
      "19\n",
      "23\n",
      "29\n",
      "31\n",
      "37\n",
      "41\n",
      "43\n",
      "47\n",
      "53\n",
      "59\n",
      "61\n",
      "67\n",
      "71\n",
      "73\n",
      "79\n",
      "83\n",
      "89\n",
      "97\n",
      "101\n",
      "103\n",
      "107\n",
      "109\n",
      "113\n",
      "127\n",
      "131\n",
      "137\n",
      "139\n",
      "149\n",
      "151\n",
      "157\n",
      "163\n",
      "167\n",
      "173\n",
      "179\n",
      "181\n",
      "191\n",
      "193\n",
      "197\n",
      "199\n",
      "211\n",
      "223\n",
      "227\n",
      "229\n",
      "233\n",
      "239\n",
      "241\n",
      "251\n",
      "257\n",
      "263\n",
      "269\n",
      "271\n",
      "277\n",
      "281\n",
      "283\n",
      "293\n",
      "307\n",
      "311\n",
      "313\n",
      "317\n",
      "331\n",
      "337\n",
      "347\n",
      "349\n",
      "353\n",
      "359\n",
      "367\n",
      "373\n",
      "379\n",
      "383\n",
      "389\n",
      "397\n",
      "401\n",
      "409\n",
      "419\n",
      "421\n",
      "431\n",
      "433\n",
      "439\n",
      "443\n",
      "449\n",
      "457\n",
      "461\n",
      "463\n",
      "467\n",
      "479\n",
      "487\n",
      "491\n",
      "499\n",
      "503\n",
      "509\n",
      "521\n",
      "523\n",
      "541\n",
      "547\n",
      "557\n",
      "563\n",
      "569\n",
      "571\n",
      "577\n",
      "587\n",
      "593\n",
      "599\n",
      "601\n",
      "607\n",
      "613\n",
      "617\n",
      "619\n",
      "631\n",
      "641\n",
      "643\n",
      "647\n",
      "653\n",
      "659\n",
      "661\n",
      "673\n",
      "677\n",
      "683\n",
      "691\n",
      "701\n",
      "709\n",
      "719\n",
      "727\n",
      "733\n",
      "739\n",
      "743\n",
      "751\n",
      "757\n",
      "761\n",
      "769\n",
      "773\n",
      "787\n",
      "797\n",
      "809\n",
      "811\n",
      "821\n",
      "823\n",
      "827\n",
      "829\n",
      "839\n",
      "853\n",
      "857\n",
      "859\n",
      "863\n",
      "877\n",
      "881\n",
      "883\n",
      "887\n",
      "907\n",
      "911\n",
      "919\n",
      "929\n",
      "937\n",
      "941\n",
      "947\n",
      "953\n",
      "967\n",
      "971\n",
      "977\n",
      "983\n",
      "991\n",
      "997\n",
      "나눗셈을 실행한 횟수: 16799\n"
     ]
    }
   ],
   "source": [
    "counter = 0\n",
    "ptr = 0\n",
    "prime = [None] * 500\n",
    "\n",
    "prime[ptr] = 2 # prime[0] == 2\n",
    "ptr += 1\n",
    "\n",
    "for n in range(3, 1001, 2) : # 홀수만을 대상으로 나눔(4 이상의 짝수는 이미 아님)\n",
    "    for i in range(2, ptr) : # 이미 찾은 소수로 나눔\n",
    "        counter += 1\n",
    "        if n % prime[i] == 0 : # 나누어 떨어지면 소수가 아님\n",
    "            break\n",
    "    else :\n",
    "        prime[ptr]=n # 소수로 배열 prime에 저장\n",
    "        ptr += 1 # prime의 index 역할을 하는 ptr이 1씩 순차적으로 증가함\n",
    "\n",
    "for i in range(ptr) : \n",
    "    print(prime[i])\n",
    "print(f'나눗셈을 실행한 횟수: {counter}')"
   ]
  },
  {
   "cell_type": "code",
   "execution_count": 40,
   "id": "d9703cae-ea74-4c64-a7ee-5cb9c0591aaf",
   "metadata": {},
   "outputs": [
    {
     "name": "stdout",
     "output_type": "stream",
     "text": [
      "x[0] = 15\n",
      "x[1] = 64\n",
      "x[2] = 7\n",
      "x[3] = [32, 55]\n",
      "x[4] = ABC\n"
     ]
    }
   ],
   "source": [
    "# 리스트와 원소의 복사\n",
    "x = [15, 64, 7, [32,55], 'ABC']\n",
    "for i in range(len(x)) : \n",
    "    print(f'x[{i}] = {x[i]}')"
   ]
  },
  {
   "cell_type": "code",
   "execution_count": 41,
   "id": "3a2b676a-ae79-4c44-833c-8b93b26ab2e7",
   "metadata": {},
   "outputs": [
    {
     "data": {
      "text/plain": [
       "[[1, 0, 3], [4, 5, 6]]"
      ]
     },
     "execution_count": 41,
     "metadata": {},
     "output_type": "execute_result"
    }
   ],
   "source": [
    "x = [[1,2,3], [4,5,6]]\n",
    "y = x.copy()\n",
    "x[0][1] = 0\n",
    "x"
   ]
  },
  {
   "cell_type": "code",
   "execution_count": 42,
   "id": "d07710d6-97dc-407b-b85b-f9f1c7fdfda2",
   "metadata": {},
   "outputs": [
    {
     "data": {
      "text/plain": [
       "[[1, 0, 3], [4, 5, 6]]"
      ]
     },
     "execution_count": 42,
     "metadata": {},
     "output_type": "execute_result"
    }
   ],
   "source": [
    "y"
   ]
  },
  {
   "cell_type": "code",
   "execution_count": 43,
   "id": "7b3e8183-8769-451b-bc65-8ad0d0c62655",
   "metadata": {},
   "outputs": [
    {
     "data": {
      "text/plain": [
       "[[1, 0, 3], [4, 5, 6]]"
      ]
     },
     "execution_count": 43,
     "metadata": {},
     "output_type": "execute_result"
    }
   ],
   "source": [
    "import copy\n",
    "x = [[1,2,3], [4,5,6]]\n",
    "y = copy.deepcopy(x)\n",
    "x[0][1] = 0\n",
    "x"
   ]
  },
  {
   "cell_type": "code",
   "execution_count": 44,
   "id": "34b24125-00ea-40f3-8e13-2df5202d5aa7",
   "metadata": {},
   "outputs": [
    {
     "data": {
      "text/plain": [
       "[[1, 2, 3], [4, 5, 6]]"
      ]
     },
     "execution_count": 44,
     "metadata": {},
     "output_type": "execute_result"
    }
   ],
   "source": [
    "y"
   ]
  }
 ],
 "metadata": {
  "kernelspec": {
   "display_name": "Python 3 (ipykernel)",
   "language": "python",
   "name": "python3"
  },
  "language_info": {
   "codemirror_mode": {
    "name": "ipython",
    "version": 3
   },
   "file_extension": ".py",
   "mimetype": "text/x-python",
   "name": "python",
   "nbconvert_exporter": "python",
   "pygments_lexer": "ipython3",
   "version": "3.12.1"
  }
 },
 "nbformat": 4,
 "nbformat_minor": 5
}
