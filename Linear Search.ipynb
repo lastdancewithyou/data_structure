{
 "cells": [
  {
   "cell_type": "code",
   "execution_count": 8,
   "id": "b01b0779",
   "metadata": {},
   "outputs": [
    {
     "name": "stdout",
     "output_type": "stream",
     "text": [
      "원소 수를 입력하세요.: 3\n",
      "x[0]:1\n",
      "x[1]:2\n",
      "x[2]:3\n",
      "검색할 값을 입력하세요.: 2\n",
      "검색값은 x[1]에 있습니다.\n"
     ]
    }
   ],
   "source": [
    "from typing import Any, Sequence\n",
    "\n",
    "def seq_search(a: Sequence, key: Any) -> int : \n",
    "    i = 0\n",
    "    \n",
    "    for i in range(len(a)) : \n",
    "        if a[i] == key : \n",
    "            return i\n",
    "    return -1\n",
    "    \n",
    "if __name__ == '__main__' : \n",
    "    num = int(input(\"원소 수를 입력하세요.: \"))\n",
    "    x = [None] * num\n",
    "    \n",
    "    for i in range(num) : \n",
    "        x[i] = int(input(f'x[{i}]:'))\n",
    "            \n",
    "    ky = int(input(\"검색할 값을 입력하세요.: \")) # 검색할 키를 입력받음\n",
    "    idx = seq_search(x, ky)\n",
    "\n",
    "    if idx == -1 :\n",
    "        print('검색값을 갖는 원소가 존재하지 않습니다.')\n",
    "    else : \n",
    "        print(f'검색값은 x[{idx}]에 있습니다.')"
   ]
  },
  {
   "cell_type": "code",
   "execution_count": 12,
   "id": "c89f333f",
   "metadata": {},
   "outputs": [
    {
     "name": "stdout",
     "output_type": "stream",
     "text": [
      "x[0]:1.5\n",
      "x[1]:2.4\n",
      "x[2]:3.1\n",
      "x[3]:종료\n",
      "검색할 값을 입력하세요.: 2.5\n",
      "검색값을 갖는 원소가 존재하지 않습니다.\n"
     ]
    }
   ],
   "source": [
    "number = 0\n",
    "x = []\n",
    "\n",
    "while True : \n",
    "    s = input(f'x[{number}]:')\n",
    "    if s == '종료' :\n",
    "        break\n",
    "    x.append(float(s))\n",
    "    number += 1\n",
    "    \n",
    "ky = float(input('검색할 값을 입력하세요.: '))\n",
    "\n",
    "idx = seq_search(x, ky)\n",
    "if idx == -1 : \n",
    "    print('검색값을 갖는 원소가 존재하지 않습니다.')\n",
    "else : \n",
    "    print(f'검색값은 x[{idx}]에 있습니다.')"
   ]
  },
  {
   "cell_type": "code",
   "execution_count": 13,
   "id": "29558d50",
   "metadata": {},
   "outputs": [
    {
     "name": "stdout",
     "output_type": "stream",
     "text": [
      "(1, 3, 5)에서 3의 인덱스는 1입니다.\n",
      "retriever에서 \"t\"의 인덱스는 2입니다.\n",
      "['BTS', 'SON', 'FAKER']에서 \"FAKER\"의 인덱스는 -1입니다.\n"
     ]
    }
   ],
   "source": [
    "a = (1, 3, 5.5)\n",
    "b = 'retriever'\n",
    "c = ['BTS', 'SON', 'FAKER']\n",
    "\n",
    "print(f'{a}에서 3의 인덱스는 {seq_search(a, 3)}입니다.')\n",
    "print(f'{b}에서 \"t\"의 인덱스는 {seq_search(b, \"t\")}입니다.')\n",
    "print(f'{c}에서 \"FAKER\"의 인덱스는 {seq_search(a, \"FAKER\")}입니다.')"
   ]
  },
  {
   "cell_type": "code",
   "execution_count": 16,
   "id": "f6282c02",
   "metadata": {},
   "outputs": [
    {
     "name": "stdout",
     "output_type": "stream",
     "text": [
      "원소 수를 입력하세요.: 3\n",
      "x[0]:1\n",
      "x[1]:4\n",
      "x[2]:2\n",
      "검색할 값을 입력하세요.: 7\n",
      "검색값을 갖는 원소가 존재하지 않습니다.\n"
     ]
    }
   ],
   "source": [
    "from typing import Any, Sequence\n",
    "import copy\n",
    "\n",
    "def seq_search(seq: Sequence, key: Any) -> int : \n",
    "    a = copy.deepcopy(seq)\n",
    "    a.append(key)\n",
    "    \n",
    "    i = 0\n",
    "    \n",
    "    for i in range(len(a)) : \n",
    "        if a[i] == key : \n",
    "            break\n",
    "        i += 1\n",
    "    return -1 if i == len(seq) else i\n",
    "    \n",
    "if __name__ == '__main__' : \n",
    "    num = int(input(\"원소 수를 입력하세요.: \"))\n",
    "    x = [None] * num\n",
    "    \n",
    "    for i in range(num) : \n",
    "        x[i] = int(input(f'x[{i}]:'))\n",
    "            \n",
    "    ky = int(input(\"검색할 값을 입력하세요.: \")) # 검색할 키를 입력받음\n",
    "    idx = seq_search(x, ky)\n",
    "\n",
    "    if idx == -1 :\n",
    "        print('검색값을 갖는 원소가 존재하지 않습니다.')\n",
    "    else : \n",
    "        print(f'검색값은 x[{idx}]에 있습니다.')"
   ]
  }
 ],
 "metadata": {
  "kernelspec": {
   "display_name": "Python 3 (ipykernel)",
   "language": "python",
   "name": "python3"
  },
  "language_info": {
   "codemirror_mode": {
    "name": "ipython",
    "version": 3
   },
   "file_extension": ".py",
   "mimetype": "text/x-python",
   "name": "python",
   "nbconvert_exporter": "python",
   "pygments_lexer": "ipython3",
   "version": "3.8.17"
  }
 },
 "nbformat": 4,
 "nbformat_minor": 5
}
