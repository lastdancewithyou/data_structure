{
 "cells": [
  {
   "cell_type": "markdown",
   "id": "57e10e70",
   "metadata": {},
   "source": [
    "단순 변수로 선언한 경우"
   ]
  },
  {
   "cell_type": "code",
   "execution_count": 1,
   "id": "dad8d7e8",
   "metadata": {},
   "outputs": [
    {
     "name": "stdout",
     "output_type": "stream",
     "text": [
      "학생 그룹 점수의 합계와 평균을 구합니다.\n",
      "1번 학생의 점수를 입력하세요.: 17\n",
      "2번 학생의 점수를 입력하세요.: 24\n",
      "3번 학생의 점수를 입력하세요.: 32\n",
      "4번 학생의 점수를 입력하세요.: 41\n",
      "5번 학생의 점수를 입력하세요.: 28\n",
      "합계는 142점입니다.\n",
      "평균은 28.4점입니다.\n"
     ]
    }
   ],
   "source": [
    "print('학생 그룹 점수의 합계와 평균을 구합니다.')\n",
    "\n",
    "score1 = int(input('1번 학생의 점수를 입력하세요.: '))\n",
    "score2 = int(input('2번 학생의 점수를 입력하세요.: '))\n",
    "score3 = int(input('3번 학생의 점수를 입력하세요.: '))\n",
    "score4 = int(input('4번 학생의 점수를 입력하세요.: '))\n",
    "score5 = int(input('5번 학생의 점수를 입력하세요.: '))\n",
    "\n",
    "total = 0\n",
    "total += score1\n",
    "total += score2\n",
    "total += score3\n",
    "total += score4\n",
    "total += score5\n",
    "\n",
    "print(f'합계는 {total}점입니다.')\n",
    "print(f'평균은 {total / 5}점입니다.')"
   ]
  },
  {
   "cell_type": "markdown",
   "id": "3a14ab9b",
   "metadata": {},
   "source": [
    "# 배열\n",
    "- 배열(array)에는 객체가 저장되며, 배열에 저장된 객체들을 원소(element)라고 함\n",
    "- 각 원소는 0, 1, 2 순으로 인덱스(index)를 부여 받음\n",
    "- 생성 시 원소 개수를 자유롭게 지정할 수 있음"
   ]
  },
  {
   "cell_type": "markdown",
   "id": "ae43e19b",
   "metadata": {},
   "source": [
    "## 문제\n",
    "\n",
    "요구사항 1. 학생 수 변경 <br>\n",
    "요구사항 2. 특정 학생의 시험 점수 확인 혹은 변경<br>\n",
    "요구사항 3. 최저점과 최고점을 구하거나 정렬이 필요한 경우"
   ]
  },
  {
   "cell_type": "code",
   "execution_count": 8,
   "id": "5b65073b",
   "metadata": {},
   "outputs": [
    {
     "name": "stdout",
     "output_type": "stream",
     "text": [
      "최고점 : 41\n",
      "최저점 : 17\n"
     ]
    }
   ],
   "source": [
    "score = [17, 24, 32, 41, 28]\n",
    "print('최고점 :', max(score))\n",
    "print('최저점 :', min(score))"
   ]
  },
  {
   "cell_type": "markdown",
   "id": "d521037d",
   "metadata": {},
   "source": [
    "배열에는 서로 다른 자료형을 같이 저장할 수 있으며, 배열 원소 자체를 배열에 저장할 수 있음"
   ]
  },
  {
   "cell_type": "markdown",
   "id": "79a119eb",
   "metadata": {},
   "source": [
    "## 리스트\n",
    "- 원소를 변경할 수 있는 mutable list형 객체\n",
    "- 연산자 [] 안에 원소를 쉼표(,)로 구분하여 표기"
   ]
  },
  {
   "cell_type": "code",
   "execution_count": 9,
   "id": "a660a777",
   "metadata": {},
   "outputs": [],
   "source": [
    "list01 = [] # 빈 리스트\n",
    "list02 = [1,2,3] # [1,2,3]\n",
    "list03 = ['A', 'B', 'C', ] # 맨 마지막 원소에 쉼표를 써도 됨"
   ]
  },
  {
   "cell_type": "code",
   "execution_count": 19,
   "id": "ff0fb0bb",
   "metadata": {},
   "outputs": [],
   "source": [
    "list04 = list() # 빈 리스트\n",
    "list05 = list('ABC') # ['A', 'B', 'C']\n",
    "list06 = list([1,2,3]) # 리스트로부터 원소를 생성\n",
    "list07 = list((1,2,3)) # 튜플로부터 원소를 생성\n",
    "list08 = list({1,2,3}) # 집합으로부터 원소를 생성"
   ]
  },
  {
   "cell_type": "code",
   "execution_count": 21,
   "id": "1d7b36c6",
   "metadata": {},
   "outputs": [],
   "source": [
    "list09 = list(range(7)) # [0,1,2,3,4,5,6]\n",
    "list10 = list(range(3, 8)) # [3,4,5,6,7]\n",
    "list11 = list(range(3, 13, 2)) # [3,5,7,9,11]"
   ]
  },
  {
   "cell_type": "code",
   "execution_count": 24,
   "id": "39799d72",
   "metadata": {},
   "outputs": [],
   "source": [
    "list12 = [None] * 5"
   ]
  },
  {
   "cell_type": "code",
   "execution_count": 25,
   "id": "46ffda87",
   "metadata": {
    "scrolled": true
   },
   "outputs": [
    {
     "data": {
      "text/plain": [
       "[None, None, None, None, None]"
      ]
     },
     "execution_count": 25,
     "metadata": {},
     "output_type": "execute_result"
    }
   ],
   "source": [
    "list12"
   ]
  },
  {
   "cell_type": "markdown",
   "id": "dc35928a",
   "metadata": {},
   "source": [
    "## 튜플\n",
    "- 튜플은 원소에 순서를 매겨 결합한 원소 변경이 불가능한 immutable 자료형\n",
    "- 원소를 쉼표로 구분하여 나열한 뒤 결합 연산자 ()로 둘러싸는 방식으로 생성함\n",
    "- 튜플은 리스트와 다르게 결합 연산자를 생략할 수 있음"
   ]
  },
  {
   "cell_type": "code",
   "execution_count": 27,
   "id": "c4dab049",
   "metadata": {},
   "outputs": [
    {
     "name": "stdout",
     "output_type": "stream",
     "text": [
      "()\n",
      "(1,)\n",
      "(1,)\n"
     ]
    }
   ],
   "source": [
    "tuple01 = ()\n",
    "tuple02 = 1, \n",
    "tuple03 = (1,)\n",
    "print(tuple01)\n",
    "print(tuple02)\n",
    "print(tuple03)"
   ]
  },
  {
   "cell_type": "markdown",
   "id": "9dd53741",
   "metadata": {},
   "source": [
    "- tuple은 원소가 1개인 경우 반드시 원소 뒤에 쉼표를 입력해야 함"
   ]
  },
  {
   "cell_type": "code",
   "execution_count": 29,
   "id": "b973f79f",
   "metadata": {},
   "outputs": [
    {
     "name": "stdout",
     "output_type": "stream",
     "text": [
      "<class 'tuple'>\n",
      "<class 'int'>\n"
     ]
    }
   ],
   "source": [
    "v01 = (1)\n",
    "print(type(tuple02))\n",
    "print(type(v01)) # 튜플이 아닌 하나의 값을 가진 int 변수, 원소가 1개인 경우 원소 뒤에 반드시 쉼표를 입력함()"
   ]
  },
  {
   "cell_type": "code",
   "execution_count": 30,
   "id": "b760b572",
   "metadata": {},
   "outputs": [
    {
     "name": "stdout",
     "output_type": "stream",
     "text": [
      "('A', 'B', 'C')\n"
     ]
    }
   ],
   "source": [
    "tuple09 = tuple() # 빈 튜플\n",
    "tuple10 = tuple('ABC') # 문자열의 각 문자로부터 원소 생성\n",
    "tuple11 = tuple([1,2,3]) # 리스트로부터 원소 생성\n",
    "tuple12 = tuple({1,2,3}) # 집합으로부터 원소 생성\n",
    "print(tuple10)"
   ]
  },
  {
   "cell_type": "code",
   "execution_count": 31,
   "id": "710408ce",
   "metadata": {},
   "outputs": [],
   "source": [
    "tuple13 = tuple(range(7))\n",
    "tuple14 = tuple(range(3,8))"
   ]
  },
  {
   "cell_type": "markdown",
   "id": "a94ee9e6",
   "metadata": {},
   "source": [
    "### 리스트와 튜플 풀어내기\n",
    "- 좌변에 여러 개의 변수를 놓고, 우변에는 리스트나 튜플을 놓으면 우변의 원소를 좌변의 변수에 한번에 대입할 수 있음"
   ]
  },
  {
   "cell_type": "code",
   "execution_count": 36,
   "id": "ef9162c9",
   "metadata": {},
   "outputs": [
    {
     "data": {
      "text/plain": [
       "(1, 2, 3)"
      ]
     },
     "execution_count": 36,
     "metadata": {},
     "output_type": "execute_result"
    }
   ],
   "source": [
    "x = [1,2,3]\n",
    "a,b,c = x # x를 언팩하여 변수 a, b, c 대입\n",
    "a, b, c"
   ]
  },
  {
   "cell_type": "markdown",
   "id": "553247b8",
   "metadata": {},
   "source": [
    "## 인덱스로 원소에 접근하기"
   ]
  },
  {
   "cell_type": "code",
   "execution_count": 40,
   "id": "2ae4c91d",
   "metadata": {},
   "outputs": [
    {
     "name": "stdout",
     "output_type": "stream",
     "text": [
      "33\n",
      "55\n"
     ]
    }
   ],
   "source": [
    "x = [11, 22, 33, 44, 55, 66, 77]\n",
    "print(x[2])\n",
    "print(x[-3])"
   ]
  },
  {
   "cell_type": "code",
   "execution_count": 41,
   "id": "deedeebb",
   "metadata": {},
   "outputs": [
    {
     "data": {
      "text/plain": [
       "[11, 22, 33, 3.41, 55, 66, 77]"
      ]
     },
     "execution_count": 41,
     "metadata": {},
     "output_type": "execute_result"
    }
   ],
   "source": [
    "x[-4]=3.41\n",
    "x"
   ]
  },
  {
   "cell_type": "markdown",
   "id": "b249c8e0",
   "metadata": {},
   "source": [
    "- 존재하지 않는 원소에 접근하거나 대입해도 원소가 새롭게 추가되지는 않음"
   ]
  },
  {
   "cell_type": "markdown",
   "id": "dfe02365",
   "metadata": {},
   "source": [
    "## 슬라이스\n",
    "- 리스트 또는 튜플의 원소 일부를 연속해서 또는 일정한 간격으로 꺼내 새로운 리스트와 튜플을 만드는 것\n",
    "- s[i:j] -> s[i]부터 s[j-1]까지 나열합니다.\n",
    "- s[i:j:k] -> s[i]부터 s[j-1]까지 k씩 건너뛰며 나열합니다."
   ]
  },
  {
   "cell_type": "code",
   "execution_count": 44,
   "id": "b192afa6",
   "metadata": {},
   "outputs": [
    {
     "name": "stdout",
     "output_type": "stream",
     "text": [
      "[11, 22, 33, 44, 55, 66]\n",
      "[11, 33, 55, 77]\n"
     ]
    }
   ],
   "source": [
    "s = [11, 22, 33, 44, 55, 66, 77]\n",
    "print(s[0:6]) # 리스트 s의 0번째 원소부터 5번째 원소를 출력\n",
    "print(s[0:7:2]) # 리스트 s의 0번째 원소부터 5번째 원소를 출력"
   ]
  },
  {
   "cell_type": "markdown",
   "id": "484fee2a",
   "metadata": {},
   "source": [
    "- i, j, k 지정 규칙\n",
    "    - i, j가 len(s)보다 크면 len(s)가 지정된 것으로 간주함. 인덱스와 달리 범위에서 벗어나는 값이 지정되어도 오류가 발생하지 않음\n",
    "    - i가 없거나 None이면 0이 지정된 것으로 간주함\n",
    "    - j가 없거나 None이면 len(s)가 지정된 것으로 간주함(ex.s[3:])"
   ]
  },
  {
   "cell_type": "code",
   "execution_count": 45,
   "id": "00430b3f",
   "metadata": {},
   "outputs": [
    {
     "data": {
      "text/plain": [
       "[44, 55, 66, 77]"
      ]
     },
     "execution_count": 45,
     "metadata": {},
     "output_type": "execute_result"
    }
   ],
   "source": [
    "s[3:]"
   ]
  },
  {
   "cell_type": "markdown",
   "id": "f99d2640",
   "metadata": {},
   "source": [
    "| 패턴 | 설명 | 실행 예 | 실행 결과 |\n",
    "|-----|-----|-----|-----|\n",
    "|  s[:]   |  리스트 s의 원소를 모두 출력합니다.   |  s[:]   |  [11,22,33,44,55,66,77]   |\n",
    "|  s[:n]   |   리스트 s의 원소 중 맨 앞부터 n개까지 출력합니다.  |  s[:3]   |  [11,22,33]   |\n",
    "|  s[i:]   |  리스트 s의 원소 중 s[i]부터 맨 끝까지 출력합니다.   |  s[3:]   |  [44,55,66,77]   |\n",
    "|  s[-n:]   |  리스트 s의 원소 중 -n부터 맨 끝까지 출력합니다.   |  s[-3:]   |  [55,66,77]   |\n",
    "|  s[::k]   |  리스트 s의 원소 중 맨 앞부터 k개씩 건너뛰며 출력합니다.   |  s[::2]   |  [11,33,55,77]   |\n",
    "|  s[::-1]   |  리스트 s의 원소 중 맨 끝부터 전부 출력합니다.   |  s[::-1]   |  [77,66,55,44,33,22,11]   |"
   ]
  },
  {
   "cell_type": "markdown",
   "id": "7fdeb5f6",
   "metadata": {},
   "source": [
    "- 파이썬은 변수를 선언할 때 자료형을 선언하지 않더라도 변수 이름에 값을 대입하기만 하면 그 이름의 변수를 사용할 수 있도록 자료형을 자동으로 선언함"
   ]
  },
  {
   "cell_type": "code",
   "execution_count": 46,
   "id": "c432aff2",
   "metadata": {},
   "outputs": [
    {
     "data": {
      "text/plain": [
       "1"
      ]
     },
     "execution_count": 46,
     "metadata": {},
     "output_type": "execute_result"
    }
   ],
   "source": [
    "a, b, c = 1, 2, 3\n",
    "a"
   ]
  },
  {
   "cell_type": "code",
   "execution_count": 47,
   "id": "d46f8e19",
   "metadata": {},
   "outputs": [],
   "source": [
    "x = 6\n",
    "y = 2\n",
    "x, y = y+2, x+3"
   ]
  },
  {
   "cell_type": "code",
   "execution_count": 48,
   "id": "725526e8",
   "metadata": {},
   "outputs": [
    {
     "data": {
      "text/plain": [
       "4"
      ]
     },
     "execution_count": 48,
     "metadata": {},
     "output_type": "execute_result"
    }
   ],
   "source": [
    "x"
   ]
  },
  {
   "cell_type": "code",
   "execution_count": 49,
   "id": "d3c0c99a",
   "metadata": {},
   "outputs": [
    {
     "data": {
      "text/plain": [
       "9"
      ]
     },
     "execution_count": 49,
     "metadata": {},
     "output_type": "execute_result"
    }
   ],
   "source": [
    "y"
   ]
  },
  {
   "cell_type": "markdown",
   "id": "53eef8c1",
   "metadata": {},
   "source": [
    "- 뮤터블 자료형 : 리스트, 딕셔너리, 집합 등이 있으며 값을 변경할 수 있음\n",
    "- 이뮤터블 자료형 : 수, 문자열, 튜플 등이 있으며 값을 변경할 수 없음"
   ]
  },
  {
   "cell_type": "markdown",
   "id": "c45fd71b",
   "metadata": {},
   "source": [
    "# 자료구조\n",
    "- 데이터 단위와 데이터 자체 사이의 물리적 또는 논리적 관계"
   ]
  },
  {
   "cell_type": "markdown",
   "id": "90f2551f",
   "metadata": {},
   "source": [
    "- 배열의 대소 또는 등가 관계는 비교 연산자를 사용하여 판단함\n",
    "- 맨 앞 원소부터 차례로 비교하면서 원소의 값이 같으면 다음 원소를 비교함\n",
    "- 원소 수가 다른 경우 원소 수가 많은 배열을 더 크다고 판단함"
   ]
  },
  {
   "cell_type": "code",
   "execution_count": 54,
   "id": "1ee0caad",
   "metadata": {},
   "outputs": [
    {
     "data": {
      "text/plain": [
       "False"
      ]
     },
     "execution_count": 54,
     "metadata": {},
     "output_type": "execute_result"
    }
   ],
   "source": [
    "[1,2,4] < [1,2,3,5]"
   ]
  }
 ],
 "metadata": {
  "kernelspec": {
   "display_name": "Python 3 (ipykernel)",
   "language": "python",
   "name": "python3"
  },
  "language_info": {
   "codemirror_mode": {
    "name": "ipython",
    "version": 3
   },
   "file_extension": ".py",
   "mimetype": "text/x-python",
   "name": "python",
   "nbconvert_exporter": "python",
   "pygments_lexer": "ipython3",
   "version": "3.8.17"
  }
 },
 "nbformat": 4,
 "nbformat_minor": 5
}
